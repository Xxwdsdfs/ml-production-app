{
 "cells": [
  {
   "cell_type": "code",
   "execution_count": 41,
   "id": "ac563609",
   "metadata": {},
   "outputs": [
    {
     "name": "stdout",
     "output_type": "stream",
     "text": [
      "Note: you may need to restart the kernel to use updated packages.\n"
     ]
    }
   ],
   "source": [
    "%pip install -q dagshub mlflow"
   ]
  },
  {
   "cell_type": "code",
   "execution_count": 1,
   "id": "8df71aa1",
   "metadata": {},
   "outputs": [],
   "source": [
    "import pandas as pd\n",
    "import sklearn\n",
    "from sklearn.model_selection import train_test_split\n",
    "from sklearn.preprocessing import LabelEncoder\n",
    "from sklearn.tree import DecisionTreeClassifier\n",
    "from sklearn.metrics import accuracy_score, classification_report\n",
    "import joblib\n",
    "import numpy as np\n",
    "import mlflow\n",
    "import dagshub\n",
    "import mlflow.sklearn"
   ]
  },
  {
   "cell_type": "code",
   "execution_count": 17,
   "id": "5538792d",
   "metadata": {
    "scrolled": false
   },
   "outputs": [
    {
     "data": {
      "text/html": [
       "<pre style=\"white-space:pre;overflow-x:auto;line-height:normal;font-family:Menlo,'DejaVu Sans Mono',consolas,'Courier New',monospace\">Initialized MLflow to track repo <span style=\"color: #008000; text-decoration-color: #008000\">\"Xxwdsdfs/ml-production-app\"</span>\n",
       "</pre>\n"
      ],
      "text/plain": [
       "Initialized MLflow to track repo \u001b[32m\"Xxwdsdfs/ml-production-app\"\u001b[0m\n"
      ]
     },
     "metadata": {},
     "output_type": "display_data"
    },
    {
     "data": {
      "text/html": [
       "<pre style=\"white-space:pre;overflow-x:auto;line-height:normal;font-family:Menlo,'DejaVu Sans Mono',consolas,'Courier New',monospace\">Repository Xxwdsdfs/ml-production-app initialized!\n",
       "</pre>\n"
      ],
      "text/plain": [
       "Repository Xxwdsdfs/ml-production-app initialized!\n"
      ]
     },
     "metadata": {},
     "output_type": "display_data"
    }
   ],
   "source": [
    "dagshub.init(repo_owner='Xxwdsdfs', repo_name='ml-production-app', mlflow=True)"
   ]
  },
  {
   "cell_type": "code",
   "execution_count": 3,
   "id": "8193ca0b",
   "metadata": {},
   "outputs": [
    {
     "name": "stdout",
     "output_type": "stream",
     "text": [
      "MLflow Tracking URI: https://dagshub.com/Xxwdsdfs/ml-production-app.mlflow\n"
     ]
    }
   ],
   "source": [
    "# Vérifier l'URI de suivi et l'expérience en cours\n",
    "print(\"MLflow Tracking URI:\", mlflow.get_tracking_uri())"
   ]
  },
  {
   "cell_type": "code",
   "execution_count": 6,
   "id": "38f72cd4",
   "metadata": {},
   "outputs": [
    {
     "name": "stdout",
     "output_type": "stream",
     "text": [
      "Requirement already satisfied: scikit-learn==1.5.1 in c:\\users\\user\\anaconda3\\lib\\site-packages (1.5.1)\n",
      "Requirement already satisfied: joblib>=1.2.0 in c:\\users\\user\\anaconda3\\lib\\site-packages (from scikit-learn==1.5.1) (1.4.2)\n",
      "Requirement already satisfied: scipy>=1.6.0 in c:\\users\\user\\anaconda3\\lib\\site-packages (from scikit-learn==1.5.1) (1.10.0)\n",
      "Requirement already satisfied: numpy>=1.19.5 in c:\\users\\user\\anaconda3\\lib\\site-packages (from scikit-learn==1.5.1) (1.23.5)\n",
      "Requirement already satisfied: threadpoolctl>=3.1.0 in c:\\users\\user\\anaconda3\\lib\\site-packages (from scikit-learn==1.5.1) (3.5.0)\n",
      "Note: you may need to restart the kernel to use updated packages.\n"
     ]
    }
   ],
   "source": [
    "pip install --user scikit-learn==1.5.1"
   ]
  },
  {
   "cell_type": "code",
   "execution_count": 6,
   "id": "4e5470ba",
   "metadata": {},
   "outputs": [
    {
     "name": "stdout",
     "output_type": "stream",
     "text": [
      "Version de scikit-learn : 1.5.1\n"
     ]
    }
   ],
   "source": [
    "print(\"Version de scikit-learn :\", sklearn.__version__)"
   ]
  },
  {
   "cell_type": "code",
   "execution_count": 4,
   "id": "e4981729",
   "metadata": {},
   "outputs": [],
   "source": [
    "# Charger les données\n",
    "fichier_csv = \"../../data/blackjack_data.csv\"  # À ajuster selon l'emplacement\n",
    "data = pd.read_csv(fichier_csv)"
   ]
  },
  {
   "cell_type": "code",
   "execution_count": 5,
   "id": "f4ed08be",
   "metadata": {},
   "outputs": [
    {
     "name": "stdout",
     "output_type": "stream",
     "text": [
      "Aperçu des données :\n",
      "   Total_Joueur  Carte_Croupier  Action\n",
      "0            14              10   tirer\n",
      "1             9               9   tirer\n",
      "2            13               3  rester\n",
      "3            20               2  rester\n",
      "4            12               7   tirer\n"
     ]
    }
   ],
   "source": [
    "# Afficher les premières lignes\n",
    "print(\"Aperçu des données :\")\n",
    "print(data.head())"
   ]
  },
  {
   "cell_type": "code",
   "execution_count": 6,
   "id": "66e89f61",
   "metadata": {},
   "outputs": [
    {
     "name": "stdout",
     "output_type": "stream",
     "text": [
      "\n",
      "Informations sur les données :\n",
      "<class 'pandas.core.frame.DataFrame'>\n",
      "RangeIndex: 10000 entries, 0 to 9999\n",
      "Data columns (total 3 columns):\n",
      " #   Column          Non-Null Count  Dtype \n",
      "---  ------          --------------  ----- \n",
      " 0   Total_Joueur    10000 non-null  int64 \n",
      " 1   Carte_Croupier  10000 non-null  int64 \n",
      " 2   Action          10000 non-null  object\n",
      "dtypes: int64(2), object(1)\n",
      "memory usage: 234.5+ KB\n",
      "None\n"
     ]
    }
   ],
   "source": [
    "# Vérifier les informations générales\n",
    "print(\"\\nInformations sur les données :\")\n",
    "print(data.info())"
   ]
  },
  {
   "cell_type": "code",
   "execution_count": 7,
   "id": "7cfa99f0",
   "metadata": {},
   "outputs": [
    {
     "name": "stdout",
     "output_type": "stream",
     "text": [
      "\n",
      "Valeurs manquantes :\n",
      "Total_Joueur      0\n",
      "Carte_Croupier    0\n",
      "Action            0\n",
      "dtype: int64\n"
     ]
    }
   ],
   "source": [
    "# Vérifier les valeurs manquantes\n",
    "print(\"\\nValeurs manquantes :\")\n",
    "print(data.isnull().sum())"
   ]
  },
  {
   "cell_type": "code",
   "execution_count": 8,
   "id": "824d8df0",
   "metadata": {},
   "outputs": [
    {
     "name": "stdout",
     "output_type": "stream",
     "text": [
      "\n",
      "Distribution des actions :\n",
      "tirer     5178\n",
      "rester    4822\n",
      "Name: Action, dtype: int64\n"
     ]
    }
   ],
   "source": [
    "# Vérifier la distribution des actions\n",
    "print(\"\\nDistribution des actions :\")\n",
    "print(data['Action'].value_counts())"
   ]
  },
  {
   "cell_type": "code",
   "execution_count": 9,
   "id": "f21556cb",
   "metadata": {},
   "outputs": [],
   "source": [
    "# Encodage de la colonne \"Action\"\n",
    "encoder = LabelEncoder()\n",
    "data['Action'] = encoder.fit_transform(data['Action'])  # \"tirer\" -> 1, \"rester\" -> 0"
   ]
  },
  {
   "cell_type": "code",
   "execution_count": 10,
   "id": "f29061e9",
   "metadata": {},
   "outputs": [],
   "source": [
    "# Définir les features et le label\n",
    "X = data[['Total_Joueur', 'Carte_Croupier']]  # Entrées\n",
    "y = data['Action']  # Sortie"
   ]
  },
  {
   "cell_type": "code",
   "execution_count": 11,
   "id": "1096dab9",
   "metadata": {},
   "outputs": [],
   "source": [
    "# Diviser en ensemble d'entraînement et de test (80% - 20%)\n",
    "X_train, X_test, y_train, y_test = train_test_split(X, y, test_size=0.2, random_state=42)"
   ]
  },
  {
   "cell_type": "code",
   "execution_count": 12,
   "id": "5fc6a48d",
   "metadata": {},
   "outputs": [
    {
     "name": "stdout",
     "output_type": "stream",
     "text": [
      "\n",
      "Données préparées :\n",
      "Taille de l'ensemble d'entraînement : 8000 exemples\n",
      "Taille de l'ensemble de test : 2000 exemples\n"
     ]
    }
   ],
   "source": [
    "print(\"\\nDonnées préparées :\")\n",
    "print(f\"Taille de l'ensemble d'entraînement : {X_train.shape[0]} exemples\")\n",
    "print(f\"Taille de l'ensemble de test : {X_test.shape[0]} exemples\")"
   ]
  },
  {
   "cell_type": "code",
   "execution_count": 15,
   "id": "fa56522f",
   "metadata": {},
   "outputs": [],
   "source": [
    "# Exemple d'entrée\n",
    "example_input = pd.DataFrame([[14, 10]], columns=['Total_Joueur', 'Carte_Croupier'])"
   ]
  },
  {
   "cell_type": "code",
   "execution_count": 16,
   "id": "7831ca28",
   "metadata": {},
   "outputs": [
    {
     "data": {
      "application/vnd.jupyter.widget-view+json": {
       "model_id": "774b7aa2172d41f38085807192adc722",
       "version_major": 2,
       "version_minor": 0
      },
      "text/plain": [
       "Downloading artifacts:   0%|          | 0/7 [00:00<?, ?it/s]"
      ]
     },
     "metadata": {},
     "output_type": "display_data"
    },
    {
     "name": "stdout",
     "output_type": "stream",
     "text": [
      "Modèle sauvegardé avec succès !\n",
      "🏃 View run shivering-tern-637 at: https://dagshub.com/Xxwdsdfs/ml-production-app.mlflow/#/experiments/0/runs/ea7fd4ec1d6448fd9dc4db33d7db537a\n",
      "🧪 View experiment at: https://dagshub.com/Xxwdsdfs/ml-production-app.mlflow/#/experiments/0\n"
     ]
    }
   ],
   "source": [
    "with mlflow.start_run():\n",
    "    \n",
    "    # Initialiser et entraîner le modèle\n",
    "    model = DecisionTreeClassifier(max_depth=5)\n",
    "    model.fit(X_train, y_train)\n",
    "\n",
    "    # Prédire sur l'ensemble de test\n",
    "    y_pred = model.predict(X_test)\n",
    "    accuracy = accuracy_score(y_test, y_pred)\n",
    "\n",
    "    # Loguer les métriques\n",
    "    mlflow.log_metric(\"accuracy\", accuracy)\n",
    "\n",
    "    # Loguer les paramètres du modèle\n",
    "    mlflow.log_param(\"max_depth\", model.max_depth)\n",
    "\n",
    "# Créer une signature du modèle\n",
    "    input_schema = mlflow.models.signature.Schema([\n",
    "        mlflow.models.signature.ColSpec(\"double\", \"Total_Joueur\"),\n",
    "        mlflow.models.signature.ColSpec(\"double\", \"Carte_Croupier\")\n",
    "    ])\n",
    "    \n",
    "    output_schema = mlflow.models.signature.Schema([\n",
    "        mlflow.models.signature.ColSpec(\"string\")\n",
    "    ])\n",
    "\n",
    "    signature = mlflow.models.signature.ModelSignature(inputs=input_schema, outputs=output_schema)\n",
    "\n",
    "    # Loguer le modèle avec un exemple d'entrée et la signature\n",
    "    mlflow.sklearn.log_model(model, \"model_final\", signature=signature, input_example=example_input)\n",
    "\n",
    "    print(\"Modèle sauvegardé avec succès !\")"
   ]
  },
  {
   "cell_type": "code",
   "execution_count": 18,
   "id": "1ef08b6c",
   "metadata": {},
   "outputs": [
    {
     "name": "stdout",
     "output_type": "stream",
     "text": [
      "\n",
      "Évaluation du modèle :\n",
      "Précision : 0.9665\n",
      "\n",
      "Rapport de classification :\n",
      "              precision    recall  f1-score   support\n",
      "\n",
      "           0       0.94      1.00      0.97       970\n",
      "           1       1.00      0.93      0.97      1030\n",
      "\n",
      "    accuracy                           0.97      2000\n",
      "   macro avg       0.97      0.97      0.97      2000\n",
      "weighted avg       0.97      0.97      0.97      2000\n",
      "\n"
     ]
    }
   ],
   "source": [
    "# Évaluer les performances\n",
    "print(\"\\nÉvaluation du modèle :\")\n",
    "print(\"Précision :\", accuracy_score(y_test, y_pred))\n",
    "print(\"\\nRapport de classification :\")\n",
    "print(classification_report(y_test, y_pred))"
   ]
  },
  {
   "cell_type": "code",
   "execution_count": 19,
   "id": "ece68c55",
   "metadata": {},
   "outputs": [
    {
     "name": "stdout",
     "output_type": "stream",
     "text": [
      "Modèle sauvegardé avec succès !\n"
     ]
    }
   ],
   "source": [
    "# Sauvegarder le modèle dans le dossier 'ml/'\n",
    "joblib.dump((model, encoder), \"../model_registry/model.joblib\")\n",
    "print(\"Modèle sauvegardé avec succès !\")"
   ]
  },
  {
   "cell_type": "code",
   "execution_count": 20,
   "id": "fea1b4e3",
   "metadata": {},
   "outputs": [
    {
     "name": "stdout",
     "output_type": "stream",
     "text": [
      "Prédiction : rester\n"
     ]
    }
   ],
   "source": [
    "model, encoder = joblib.load(\"../model_registry/model.joblib\")\n",
    "\n",
    "# Exemple de prédiction\n",
    "exemple = pd.DataFrame([[15, 6]], columns=['Total_Joueur', 'Carte_Croupier'])\n",
    "prediction = model.predict(exemple)\n",
    "\n",
    "# Décoder la prédiction pour obtenir \"tirer\" ou \"rester\"\n",
    "action = encoder.inverse_transform(prediction)\n",
    "print(\"Prédiction :\", action[0])"
   ]
  },
  {
   "cell_type": "code",
   "execution_count": 21,
   "id": "b7798ecb",
   "metadata": {},
   "outputs": [
    {
     "name": "stdout",
     "output_type": "stream",
     "text": [
      "1.5.1\n"
     ]
    }
   ],
   "source": [
    "import sklearn\n",
    "print(sklearn.__version__)"
   ]
  }
 ],
 "metadata": {
  "kernelspec": {
   "display_name": "Python 3 (ipykernel)",
   "language": "python",
   "name": "python3"
  },
  "language_info": {
   "codemirror_mode": {
    "name": "ipython",
    "version": 3
   },
   "file_extension": ".py",
   "mimetype": "text/x-python",
   "name": "python",
   "nbconvert_exporter": "python",
   "pygments_lexer": "ipython3",
   "version": "3.10.9"
  }
 },
 "nbformat": 4,
 "nbformat_minor": 5
}
